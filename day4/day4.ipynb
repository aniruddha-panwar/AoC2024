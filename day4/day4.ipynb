{
 "cells": [
  {
   "cell_type": "code",
   "execution_count": 1,
   "id": "92849f0b-85da-451c-8a58-1350ba262ea8",
   "metadata": {},
   "outputs": [],
   "source": [
    "import re"
   ]
  },
  {
   "cell_type": "code",
   "execution_count": 2,
   "id": "8f15b61d-348e-41a1-8540-c5977669345f",
   "metadata": {},
   "outputs": [],
   "source": [
    "with open(\"input1.txt\",\"r\") as file:\n",
    "    input_str = file.read()\n",
    "\n",
    "search_str = [\n",
    "    'XMAS',\n",
    "    'SAMX'\n",
    "]\n",
    "\n",
    "test_input_str = \"\"\"MMMSXXMASM\n",
    "MSAMXMSMSA\n",
    "AMXSXMAAMM\n",
    "MSAMASMSMX\n",
    "XMASAMXAMM\n",
    "XXAMMXXAMA\n",
    "SMSMSASXSS\n",
    "SAXAMASAAA\n",
    "MAMMMXMMMM\n",
    "MXMXAXMASX\"\"\""
   ]
  },
  {
   "cell_type": "markdown",
   "id": "762a0ddb-a056-4ec7-8cf7-a0ab844c1a78",
   "metadata": {},
   "source": [
    "## PART 1"
   ]
  },
  {
   "cell_type": "code",
   "execution_count": 3,
   "id": "543c322d-7445-4e6f-844b-e2e12eafeeff",
   "metadata": {},
   "outputs": [],
   "source": [
    "def horiz_count(word:str, input_str:str) -> int:\n",
    "    return sum(1 for _ in re.finditer(word, input_str))\n",
    "\n",
    "def create_matrix(input_str:str) -> list[str]:\n",
    "    return input_str.split(\"\\n\")\n",
    "\n",
    "def vertical_straight_count(word:str, mat:list[str]) -> int:\n",
    "    \n",
    "    rows, cols = len(mat), len(mat[0])\n",
    "\n",
    "    count = 0\n",
    "    for r in range(rows - len(word) + 1):\n",
    "        for c in range(cols):\n",
    "            if mat[r][c] == word[0]:\n",
    "                check_word = \"\"\n",
    "                for i in range(len(word)):\n",
    "                    check_word += mat[r+i][c]\n",
    "                count += (1 if check_word == word else 0)\n",
    "    return count\n",
    "\n",
    "def diagonal_count(word:str, mat:list[str]) -> int:\n",
    "    rows, cols = len(mat), len(mat[0])\n",
    "\n",
    "    count = 0\n",
    "    for r in range(rows - len(word) + 1):\n",
    "        for c in range(cols):\n",
    "            if mat[r][c] == word[0]:\n",
    "                check_word_right_diag = \"\"\n",
    "                if c <= rows - len(word):\n",
    "                    for i in range(len(word)):\n",
    "                        check_word_right_diag += mat[r+i][c+i]\n",
    "                check_word_left_diag = \"\"\n",
    "                if c >= len(word) - 1:\n",
    "                    for i in range(len(word)):\n",
    "                        check_word_left_diag += mat[r+i][c-i]\n",
    "                count += (1 if check_word_right_diag == word else 0)\n",
    "                count += (1 if check_word_left_diag == word else 0)\n",
    "    return count\n",
    "\n",
    "def vertical_count(word:str, input_str:str) -> int:\n",
    "    mat = create_matrix(input_str)\n",
    "    return vertical_straight_count(word, mat) + diagonal_count(word, mat)\n",
    "\n",
    "\n",
    "def find_word(word:str, input_str:str) -> int:\n",
    "    return horiz_count(word, input_str)+vertical_count(word, input_str)"
   ]
  },
  {
   "cell_type": "code",
   "execution_count": 4,
   "id": "af516c93-b16d-4a70-91e5-fbc18a71f4bf",
   "metadata": {},
   "outputs": [
    {
     "data": {
      "text/plain": [
       "2434"
      ]
     },
     "execution_count": 4,
     "metadata": {},
     "output_type": "execute_result"
    }
   ],
   "source": [
    "sum(find_word(word, input_str) for word in search_str)"
   ]
  },
  {
   "cell_type": "markdown",
   "id": "4fd2c239-8034-4687-84e0-b21f0e67876a",
   "metadata": {},
   "source": [
    "## PART 2"
   ]
  },
  {
   "cell_type": "code",
   "execution_count": 5,
   "id": "02e24388-2772-402f-8aee-6ea58d5bec18",
   "metadata": {},
   "outputs": [],
   "source": [
    "test_input_str = \"\"\".M.S......\n",
    "..A..MSMS.\n",
    ".M.S.MAA..\n",
    "..A.ASMSM.\n",
    ".M.S.M....\n",
    "..........\n",
    "S.S.S.S.S.\n",
    ".A.A.A.A..\n",
    "M.M.M.M.M.\n",
    "..........\"\"\""
   ]
  },
  {
   "cell_type": "code",
   "execution_count": 6,
   "id": "9125d9a9-5800-43ff-87d5-eee18972f38d",
   "metadata": {},
   "outputs": [],
   "source": [
    "def count_cross_mas(input_str:list[str]) -> int:\n",
    "    mat = create_matrix(input_str)\n",
    "    rows, cols = len(mat), len(mat[0])\n",
    "    count = 0\n",
    "    for r in range(1, rows-1):\n",
    "        for c in range(1, cols-1):\n",
    "            diag1, diag2 = set(), set()\n",
    "            if mat[r][c] == 'A':\n",
    "                diag1.add(mat[r-1][c-1])\n",
    "                diag1.add(mat[r+1][c+1])\n",
    "                diag2.add(mat[r-1][c+1])\n",
    "                diag2.add(mat[r+1][c-1])\n",
    "            count += (1 if diag1 == set([\"M\",\"S\"]) and diag2 == set([\"M\",\"S\"]) else 0)\n",
    "\n",
    "    return count"
   ]
  },
  {
   "cell_type": "code",
   "execution_count": 7,
   "id": "228e970d-52a6-4230-aeef-61294488b654",
   "metadata": {},
   "outputs": [
    {
     "data": {
      "text/plain": [
       "1835"
      ]
     },
     "execution_count": 7,
     "metadata": {},
     "output_type": "execute_result"
    }
   ],
   "source": [
    "count_cross_mas(input_str)"
   ]
  },
  {
   "cell_type": "code",
   "execution_count": null,
   "id": "dc2dae64-700d-4f32-8931-bb73208ebc3e",
   "metadata": {},
   "outputs": [],
   "source": []
  }
 ],
 "metadata": {
  "kernelspec": {
   "display_name": "Python 3 (ipykernel)",
   "language": "python",
   "name": "python3"
  },
  "language_info": {
   "codemirror_mode": {
    "name": "ipython",
    "version": 3
   },
   "file_extension": ".py",
   "mimetype": "text/x-python",
   "name": "python",
   "nbconvert_exporter": "python",
   "pygments_lexer": "ipython3",
   "version": "3.10.15"
  }
 },
 "nbformat": 4,
 "nbformat_minor": 5
}
