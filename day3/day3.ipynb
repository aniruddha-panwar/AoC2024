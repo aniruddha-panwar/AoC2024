{
 "cells": [
  {
   "cell_type": "code",
   "execution_count": 1,
   "id": "24afb55e-1b8a-421e-b054-ceca9a980fd7",
   "metadata": {},
   "outputs": [],
   "source": [
    "import re"
   ]
  },
  {
   "cell_type": "markdown",
   "id": "db06583f-bda7-40ca-9561-80547d6d3e3d",
   "metadata": {},
   "source": [
    "## PART 1"
   ]
  },
  {
   "cell_type": "code",
   "execution_count": 2,
   "id": "e5a8d1db-3692-41db-9183-f0b136090c74",
   "metadata": {},
   "outputs": [],
   "source": [
    "regex = \"mul\\([0-9]+,[0-9]+\\)\""
   ]
  },
  {
   "cell_type": "code",
   "execution_count": 3,
   "id": "37432622-d9ef-4706-a1b0-0fa31423c42d",
   "metadata": {},
   "outputs": [],
   "source": [
    "with open('input1.txt', 'r') as f:\n",
    "    input_str = f.read()\n"
   ]
  },
  {
   "cell_type": "code",
   "execution_count": 4,
   "id": "465fe33b-e373-4a10-bb7f-967970975a09",
   "metadata": {},
   "outputs": [],
   "source": [
    "def cleanse(val) -> int:\n",
    "    \"\"\"\n",
    "    Take in a str matching the mould \"mul(<integer1>,<integer2>)\"\n",
    "    Return the product of integer1 and integer2\n",
    "    \"\"\"\n",
    "    val_lst = val.replace('mul(','').replace(')','').split(',')\n",
    "    return int(val_lst[0]) * int(val_lst[1])\n"
   ]
  },
  {
   "cell_type": "code",
   "execution_count": 5,
   "id": "fd0ca8fb-cb81-400a-bf5b-6e5dc134dd0a",
   "metadata": {},
   "outputs": [
    {
     "data": {
      "text/plain": [
       "171183089"
      ]
     },
     "execution_count": 5,
     "metadata": {},
     "output_type": "execute_result"
    }
   ],
   "source": [
    "sum(\n",
    "    list(\n",
    "        map(\n",
    "            cleanse,\n",
    "            re.findall(\n",
    "                regex,\n",
    "                input_str\n",
    "            )\n",
    "        )\n",
    "    )\n",
    ")"
   ]
  },
  {
   "cell_type": "markdown",
   "id": "3fd13e9a-8416-41ad-95c6-15a76c0ffff0",
   "metadata": {},
   "source": [
    "## PART 2"
   ]
  },
  {
   "cell_type": "code",
   "execution_count": 6,
   "id": "5667e5d4-9f66-4478-a7a2-6bae5ea4597e",
   "metadata": {},
   "outputs": [],
   "source": [
    "\n",
    "def pre_cleanse(input_str) -> str:\n",
    "    \"\"\"\n",
    "    Take in the input blob str\n",
    "    Return a new str where only do() operation applies\n",
    "    Info: https://adventofcode.com/2024/day/3 in Part 2\n",
    "    \"\"\"\n",
    "    intermediate_lst = input_str.split(\"don't()\")\n",
    "    new_input_lst = [intermediate_lst[0]]\n",
    "    # at the beginning mul is enabled; so check from indx 1\n",
    "    for val in intermediate_lst[1:]:\n",
    "        val_split = val.split(\"do()\")\n",
    "        new_input_lst.extend(val_split[1:] if len(val_split)>=2 else [''])\n",
    "    return ''.join(new_input_lst)"
   ]
  },
  {
   "cell_type": "code",
   "execution_count": 7,
   "id": "84d80349-dc5c-406d-8a0e-52c0ccde093a",
   "metadata": {},
   "outputs": [
    {
     "data": {
      "text/plain": [
       "63866497"
      ]
     },
     "execution_count": 7,
     "metadata": {},
     "output_type": "execute_result"
    }
   ],
   "source": [
    "sum(\n",
    "    list(\n",
    "        map(\n",
    "            cleanse,\n",
    "            re.findall(\n",
    "                regex,\n",
    "                pre_cleanse(\n",
    "                    input_str\n",
    "                )\n",
    "            )\n",
    "        )\n",
    "    )\n",
    ")"
   ]
  },
  {
   "cell_type": "code",
   "execution_count": null,
   "id": "47cee8d8-b06f-44a3-8b81-24d7767ff5eb",
   "metadata": {},
   "outputs": [],
   "source": []
  }
 ],
 "metadata": {
  "kernelspec": {
   "display_name": "Python 3 (ipykernel)",
   "language": "python",
   "name": "python3"
  },
  "language_info": {
   "codemirror_mode": {
    "name": "ipython",
    "version": 3
   },
   "file_extension": ".py",
   "mimetype": "text/x-python",
   "name": "python",
   "nbconvert_exporter": "python",
   "pygments_lexer": "ipython3",
   "version": "3.10.15"
  }
 },
 "nbformat": 4,
 "nbformat_minor": 5
}
