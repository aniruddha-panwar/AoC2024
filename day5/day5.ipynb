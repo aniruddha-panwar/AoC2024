{
 "cells": [
  {
   "cell_type": "code",
   "execution_count": 1,
   "id": "e29a0b08-b7dc-410d-83c4-28149e375cdb",
   "metadata": {},
   "outputs": [],
   "source": [
    "from collections import defaultdict"
   ]
  },
  {
   "cell_type": "code",
   "execution_count": 2,
   "id": "76718fd5-18b9-43c1-ac48-daa9d1c973a0",
   "metadata": {},
   "outputs": [],
   "source": [
    "with open('input1.txt','r') as file:\n",
    "    input_file = file.read()"
   ]
  },
  {
   "cell_type": "markdown",
   "id": "12a9f407-a5af-4b82-bd50-cb7050193401",
   "metadata": {},
   "source": [
    "## PART 1"
   ]
  },
  {
   "cell_type": "code",
   "execution_count": 3,
   "id": "f3bb5c90-b116-486f-a454-000055f0626c",
   "metadata": {},
   "outputs": [],
   "source": [
    "test_values = \"\"\"47|53\n",
    "97|13\n",
    "97|61\n",
    "97|47\n",
    "75|29\n",
    "61|13\n",
    "75|53\n",
    "29|13\n",
    "97|29\n",
    "53|29\n",
    "61|53\n",
    "97|53\n",
    "61|29\n",
    "47|13\n",
    "75|47\n",
    "97|75\n",
    "47|61\n",
    "75|61\n",
    "47|29\n",
    "75|13\n",
    "53|13\n",
    "\n",
    "75,47,61,53,29\n",
    "97,61,53,29,13\n",
    "75,29,13\n",
    "75,97,47,61,53\n",
    "61,13,29\n",
    "97,13,75,29,47\"\"\"\n"
   ]
  },
  {
   "cell_type": "code",
   "execution_count": 4,
   "id": "80d0a3da-79a1-4dab-964f-f2c40fa2da57",
   "metadata": {},
   "outputs": [],
   "source": [
    "def _get_downstream_and_update_list(input_values:str) -> tuple[defaultdict[set], list[list[int]]]:\n",
    "\n",
    "    order_rules, updates = input_values.split(\"\\n\\n\")\n",
    "    downstream_dependency_map = defaultdict(set)\n",
    "\n",
    "    for ordering in order_rules.split(\"\\n\"):\n",
    "        v1, v2 = ordering.split(\"|\")\n",
    "        downstream_dependency_map[int(v1)].add(int(v2))\n",
    "\n",
    "    updates_list = [[int(elem) for elem in line.split(',')] for line in updates.split(\"\\n\")]\n",
    "\n",
    "    return downstream_dependency_map, updates_list\n",
    "\n",
    "\n",
    "def get_mid_elem_safe_updates(input_values:str) -> int:\n",
    "    \n",
    "    downstream_map, updates = _get_downstream_and_update_list(input_values)\n",
    "    safe_update_list_mid_sum = 0\n",
    "\n",
    "    for update_list in updates:\n",
    "\n",
    "        is_safe_update = True\n",
    "\n",
    "        for indx in range(len(update_list)):\n",
    "            occured_updates = set(update_list[:indx])\n",
    "            if occured_updates & downstream_map[update_list[indx]]: # basically intersection != [] i.e. if downstream updates have already occured for the current elem, NONONONONONO\n",
    "                is_safe_update = False\n",
    "                break\n",
    "\n",
    "        if is_safe_update:\n",
    "                safe_update_list_mid_sum += update_list[len(update_list) // 2]\n",
    "\n",
    "    return safe_update_list_mid_sum"
   ]
  },
  {
   "cell_type": "code",
   "execution_count": 5,
   "id": "6ace04fe-2ccb-4437-a3d2-5eb6ef5ddf0f",
   "metadata": {},
   "outputs": [
    {
     "data": {
      "text/plain": [
       "143"
      ]
     },
     "execution_count": 5,
     "metadata": {},
     "output_type": "execute_result"
    }
   ],
   "source": [
    "get_mid_elem_safe_updates(test_values)"
   ]
  },
  {
   "cell_type": "code",
   "execution_count": 6,
   "id": "a358e01b-fd0b-44ba-9fe4-296fe9241c6d",
   "metadata": {},
   "outputs": [
    {
     "data": {
      "text/plain": [
       "7074"
      ]
     },
     "execution_count": 6,
     "metadata": {},
     "output_type": "execute_result"
    }
   ],
   "source": [
    "get_mid_elem_safe_updates(input_file)"
   ]
  },
  {
   "cell_type": "markdown",
   "id": "adc1901b-c295-425c-927f-3fd4cdeee464",
   "metadata": {},
   "source": [
    "## PART 2"
   ]
  },
  {
   "cell_type": "markdown",
   "id": "b85f158c-a7d1-483b-b3fa-185150beeeca",
   "metadata": {},
   "source": [
    "Couldn't do it myself, Ouch!. Got a neat solution understanding from : [link](https://www.youtube.com/watch?v=LA4RiCDPUlI)"
   ]
  },
  {
   "cell_type": "code",
   "execution_count": 7,
   "id": "72a31528-0633-4c35-bf87-577ad374c3b7",
   "metadata": {},
   "outputs": [],
   "source": [
    "def _get_downstream_and_update_list(input_values:str) -> tuple[defaultdict[set], list[list[int]]]:\n",
    "\n",
    "    order_rules, updates = input_values.split(\"\\n\\n\")\n",
    "    downstream_dependency_map = defaultdict(set)\n",
    "\n",
    "    for ordering in order_rules.split(\"\\n\"):\n",
    "        v1, v2 = ordering.split(\"|\")\n",
    "        downstream_dependency_map[int(v1)].add(int(v2))\n",
    "\n",
    "    updates_list = [[int(elem) for elem in line.split(',')] for line in updates.split(\"\\n\")]\n",
    "\n",
    "    return downstream_dependency_map, updates_list\n",
    "\n",
    "\n",
    "def _fix_unsafe_update(unsafe_update, downstream_map) -> list[int]:\n",
    "    downstream_map_local = defaultdict(int) # meant to hold relations between unsafe elements ONLY to keep indeg limited to only relavant values\n",
    "\n",
    "\n",
    "    for elem in unsafe_update:\n",
    "        downstream_map_local[elem] = set(unsafe_update) & downstream_map.get(elem, {})\n",
    "\n",
    "    indeg = defaultdict(int)\n",
    "    for k,v_set in downstream_map_local.items():\n",
    "        for v in v_set:\n",
    "            indeg[v] += 1\n",
    "\n",
    "    safe_update = []\n",
    "\n",
    "    while len(safe_update) < len(unsafe_update):\n",
    "        for elem in unsafe_update:\n",
    "            if elem in safe_update: continue\n",
    "            if indeg[elem] <= 0:\n",
    "                safe_update.append(elem)\n",
    "                for downstream_elem in downstream_map_local[elem]:\n",
    "                    indeg[downstream_elem] -= 1\n",
    "\n",
    "    return safe_update\n",
    "\n",
    "\n",
    "def _safeify_unsafe_updates(unsafe_updates: list[list[int]], downstream_map) -> int:\n",
    "    running_sum = 0\n",
    "\n",
    "    for unsafe_update in unsafe_updates:\n",
    "        safe_update = _fix_unsafe_update(unsafe_update, downstream_map)\n",
    "        running_sum += safe_update[len(safe_update) // 2]\n",
    "\n",
    "    return running_sum\n",
    "\n",
    "\n",
    "def get_mid_elem_unsafe_updates(input_values:str) -> int:\n",
    "    downstream_map, updates = _get_downstream_and_update_list(input_values)\n",
    "\n",
    "    unsafe_updates = []\n",
    "    \n",
    "    for update_list in updates:\n",
    "\n",
    "        is_safe_update = True\n",
    "\n",
    "        for indx in range(len(update_list)):\n",
    "            occured_updates = set(update_list[:indx])\n",
    "            if occured_updates & downstream_map[update_list[indx]]: # basically intersection != []\n",
    "                is_safe_update = False\n",
    "                unsafe_updates.append(update_list)\n",
    "                break\n",
    "    \n",
    "    return _safeify_unsafe_updates(unsafe_updates, downstream_map)"
   ]
  },
  {
   "cell_type": "code",
   "execution_count": 8,
   "id": "fba64e1c-7c7a-4f37-a09a-24ba99bb64eb",
   "metadata": {
    "scrolled": true
   },
   "outputs": [
    {
     "data": {
      "text/plain": [
       "123"
      ]
     },
     "execution_count": 8,
     "metadata": {},
     "output_type": "execute_result"
    }
   ],
   "source": [
    "get_mid_elem_unsafe_updates(test_values)"
   ]
  },
  {
   "cell_type": "code",
   "execution_count": 9,
   "id": "dc1b7b7e-043b-4a96-af3b-b48cd1deb8ff",
   "metadata": {
    "scrolled": true
   },
   "outputs": [
    {
     "data": {
      "text/plain": [
       "4828"
      ]
     },
     "execution_count": 9,
     "metadata": {},
     "output_type": "execute_result"
    }
   ],
   "source": [
    "get_mid_elem_unsafe_updates(input_file)"
   ]
  },
  {
   "cell_type": "code",
   "execution_count": null,
   "id": "63eb9088-827b-454e-ba80-21115745b5eb",
   "metadata": {},
   "outputs": [],
   "source": []
  }
 ],
 "metadata": {
  "kernelspec": {
   "display_name": "Python 3 (ipykernel)",
   "language": "python",
   "name": "python3"
  },
  "language_info": {
   "codemirror_mode": {
    "name": "ipython",
    "version": 3
   },
   "file_extension": ".py",
   "mimetype": "text/x-python",
   "name": "python",
   "nbconvert_exporter": "python",
   "pygments_lexer": "ipython3",
   "version": "3.10.15"
  }
 },
 "nbformat": 4,
 "nbformat_minor": 5
}
