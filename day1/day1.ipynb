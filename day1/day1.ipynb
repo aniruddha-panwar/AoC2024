{
 "cells": [
  {
   "cell_type": "code",
   "execution_count": 1,
   "id": "7e6c3cf4-ee7f-473b-9ad7-59f6899bf1e5",
   "metadata": {},
   "outputs": [],
   "source": [
    "with open('input1.txt','r') as file:\n",
    "    input_contents = file.read()\n",
    "\n",
    "test_contents = \"\"\"3   4\n",
    "4   3\n",
    "2   5\n",
    "1   3\n",
    "3   9\n",
    "3   3\"\"\""
   ]
  },
  {
   "cell_type": "markdown",
   "id": "aa79dcd0-0106-4a1e-8d4d-67b2bc40f497",
   "metadata": {},
   "source": [
    "## PART 1"
   ]
  },
  {
   "cell_type": "code",
   "execution_count": 2,
   "id": "89d6955d-0889-45e2-b7f2-1ccc806f3792",
   "metadata": {},
   "outputs": [],
   "source": [
    "\n",
    "def calc_dist(input_contents):\n",
    "    l1, l2 = [], []\n",
    "    for val in input_contents.split(\"\\n\"):\n",
    "        val_pair = val.split('   ')\n",
    "        l1.append(int(val_pair[0]))\n",
    "        l2.append(int(val_pair[1]))\n",
    "\n",
    "    l1.sort()\n",
    "    l2.sort()\n",
    "\n",
    "    return sum((abs(l2[i]-l1[i]) for i in range(len(l1))))\n"
   ]
  },
  {
   "cell_type": "code",
   "execution_count": 3,
   "id": "0a5c597a-e4ff-48d4-82a5-f5e900927fb3",
   "metadata": {},
   "outputs": [
    {
     "data": {
      "text/plain": [
       "11"
      ]
     },
     "execution_count": 3,
     "metadata": {},
     "output_type": "execute_result"
    }
   ],
   "source": [
    "calc_dist(test_contents)"
   ]
  },
  {
   "cell_type": "code",
   "execution_count": 4,
   "id": "23991a6a-bcc5-496c-82e9-93741c8c9d59",
   "metadata": {},
   "outputs": [
    {
     "data": {
      "text/plain": [
       "2031679"
      ]
     },
     "execution_count": 4,
     "metadata": {},
     "output_type": "execute_result"
    }
   ],
   "source": [
    "calc_dist(input_contents)"
   ]
  },
  {
   "cell_type": "markdown",
   "id": "64613af5-36ea-486e-81f7-3be9c1150d49",
   "metadata": {},
   "source": [
    "## PART 2"
   ]
  },
  {
   "cell_type": "code",
   "execution_count": 5,
   "id": "082a4ce7-5743-4465-987d-5f613f07cf85",
   "metadata": {},
   "outputs": [],
   "source": [
    "def calc_dist2(input_contents):\n",
    "\n",
    "    l1 = []\n",
    "    l2_map = {}\n",
    "    for val in input_contents.split(\"\\n\"):\n",
    "        val_pair = val.split('   ')\n",
    "\n",
    "        #create hash set\n",
    "        val1 = int(val_pair[0])\n",
    "        val2 = int(val_pair[1])\n",
    "\n",
    "        l1.append(val1)\n",
    "        l2_map[val2] = l2_map.get(val2,0) + 1\n",
    "\n",
    "    return sum(l1[i] * l2_map.get(l1[i],0) for i in range(len(l1)))"
   ]
  },
  {
   "cell_type": "code",
   "execution_count": 6,
   "id": "0938c348-2d30-4156-be84-8120994e1fc7",
   "metadata": {},
   "outputs": [
    {
     "data": {
      "text/plain": [
       "31"
      ]
     },
     "execution_count": 6,
     "metadata": {},
     "output_type": "execute_result"
    }
   ],
   "source": [
    "calc_dist2(test_contents)"
   ]
  },
  {
   "cell_type": "code",
   "execution_count": 7,
   "id": "b707a552-795f-4241-ab0b-7017751555ce",
   "metadata": {},
   "outputs": [
    {
     "data": {
      "text/plain": [
       "19678534"
      ]
     },
     "execution_count": 7,
     "metadata": {},
     "output_type": "execute_result"
    }
   ],
   "source": [
    "calc_dist2(input_contents)"
   ]
  },
  {
   "cell_type": "code",
   "execution_count": null,
   "id": "a2ef596d-cdba-4d93-983b-3f33f565c42d",
   "metadata": {},
   "outputs": [],
   "source": []
  }
 ],
 "metadata": {
  "kernelspec": {
   "display_name": "Python 3 (ipykernel)",
   "language": "python",
   "name": "python3"
  },
  "language_info": {
   "codemirror_mode": {
    "name": "ipython",
    "version": 3
   },
   "file_extension": ".py",
   "mimetype": "text/x-python",
   "name": "python",
   "nbconvert_exporter": "python",
   "pygments_lexer": "ipython3",
   "version": "3.10.15"
  }
 },
 "nbformat": 4,
 "nbformat_minor": 5
}
