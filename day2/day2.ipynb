{
 "cells": [
  {
   "cell_type": "code",
   "execution_count": 1,
   "id": "0cb66a65-5e91-4eac-83a6-fbc9f895deb8",
   "metadata": {},
   "outputs": [],
   "source": [
    "with open('input1.txt','r') as file:\n",
    "    input_contents = file.read()\n",
    "\n",
    "test_input=\"\"\"7 6 4 2 1\n",
    "1 2 7 8 9\n",
    "9 7 6 2 1\n",
    "1 3 2 4 5\n",
    "8 6 4 4 1\n",
    "1 3 6 7 9\n",
    "1 4 2 6 7\"\"\""
   ]
  },
  {
   "cell_type": "markdown",
   "id": "e18434d9-1dc9-4b96-8adc-93810b3629b8",
   "metadata": {},
   "source": [
    "## PART 1"
   ]
  },
  {
   "cell_type": "code",
   "execution_count": 2,
   "id": "59f216f7-ce56-4065-a847-ad88aab9dd31",
   "metadata": {},
   "outputs": [],
   "source": [
    "def count_safe_reports(input_str:str) -> int:\n",
    "    safe_reports = 0\n",
    "    \n",
    "    for line in input_str.split(\"\\n\"):\n",
    "    \n",
    "        val_list = list(map(int,line.split(' ')))\n",
    "        inc_flag, dec_flag = False, False\n",
    "    \n",
    "        indx = 1\n",
    "        while indx < len(val_list) and (inc_flag == True and dec_flag == True) != True:\n",
    "            if val_list[indx] > val_list[indx-1] and 1 <= val_list[indx] - val_list[indx-1] <= 3:\n",
    "                inc_flag = True\n",
    "            elif val_list[indx] < val_list[indx-1] and 1 <= val_list[indx-1] - val_list[indx] <= 3:\n",
    "                dec_flag = True\n",
    "            else:\n",
    "                break\n",
    "            indx += 1\n",
    "        safe_reports += (1 if indx == len(val_list) and (inc_flag == True and dec_flag == True) == False else 0)\n",
    "    \n",
    "    return safe_reports"
   ]
  },
  {
   "cell_type": "code",
   "execution_count": 3,
   "id": "a29f0c3a-3dfc-46b1-a7a9-d8536ca123cb",
   "metadata": {},
   "outputs": [
    {
     "data": {
      "text/plain": [
       "2"
      ]
     },
     "execution_count": 3,
     "metadata": {},
     "output_type": "execute_result"
    }
   ],
   "source": [
    "count_safe_reports(test_input)"
   ]
  },
  {
   "cell_type": "code",
   "execution_count": 4,
   "id": "b7dd418f-a316-4530-8ef0-8134ab9d626b",
   "metadata": {},
   "outputs": [
    {
     "data": {
      "text/plain": [
       "236"
      ]
     },
     "execution_count": 4,
     "metadata": {},
     "output_type": "execute_result"
    }
   ],
   "source": [
    "count_safe_reports(input_contents)"
   ]
  },
  {
   "cell_type": "markdown",
   "id": "8f0941e8-f39b-46e6-8e5f-8fb34523927b",
   "metadata": {},
   "source": [
    "## PART 2"
   ]
  },
  {
   "cell_type": "code",
   "execution_count": 5,
   "id": "499764b9-2320-427b-8cee-d599e103a939",
   "metadata": {},
   "outputs": [],
   "source": [
    "def check_level_is_safe(lvl: list[int]) -> bool:\n",
    "    inc_flag, dec_flag = False, False\n",
    "    indx = 1\n",
    "    while indx < len(lvl) and (inc_flag == True and dec_flag == True) != True:\n",
    "        if lvl[indx] > lvl[indx-1] and 1 <= lvl[indx] - lvl[indx-1] <= 3:\n",
    "            inc_flag = True\n",
    "        elif lvl[indx] < lvl[indx-1] and 1 <= lvl[indx-1] - lvl[indx] <= 3:\n",
    "            dec_flag = True\n",
    "        else:\n",
    "            break\n",
    "        indx += 1\n",
    "    \n",
    "    return True if indx == len(lvl) and (inc_flag == True and dec_flag == True) == False else False\n",
    "\n",
    "def count_safe_reports2(input_str:str) -> int:\n",
    "    safe_report = 0\n",
    "    for line in input_str.split(\"\\n\"):\n",
    "        lvl = list(map(int,line.split(' ')))\n",
    "        if check_level_is_safe(lvl) or any(check_level_is_safe(lvl[:i] + lvl[i+1:]) for i in range(len(lvl))):\n",
    "            safe_report += 1\n",
    "\n",
    "    return safe_report"
   ]
  },
  {
   "cell_type": "code",
   "execution_count": 6,
   "id": "30365cfc-d3c0-4b27-9794-27a5bee091a5",
   "metadata": {},
   "outputs": [
    {
     "data": {
      "text/plain": [
       "5"
      ]
     },
     "execution_count": 6,
     "metadata": {},
     "output_type": "execute_result"
    }
   ],
   "source": [
    "count_safe_reports2(test_input)"
   ]
  },
  {
   "cell_type": "code",
   "execution_count": 7,
   "id": "eb7ab7db-a425-4ad9-a72c-818eba84b010",
   "metadata": {},
   "outputs": [
    {
     "data": {
      "text/plain": [
       "308"
      ]
     },
     "execution_count": 7,
     "metadata": {},
     "output_type": "execute_result"
    }
   ],
   "source": [
    "count_safe_reports2(input_contents)"
   ]
  },
  {
   "cell_type": "markdown",
   "id": "b2f7bb45-d344-46bf-83db-ada7ca9ce582",
   "metadata": {},
   "source": [
    "## NEAT TRICK"
   ]
  },
  {
   "cell_type": "markdown",
   "id": "3e6d6b74-e1a1-41e2-8ab3-205760b14203",
   "metadata": {},
   "source": [
    "Browsing the web, I found a neat (sub)solution for checking if a level is safe (refactor for check_level_is_safe). \n",
    "Sauce: [link](https://www.reddit.com/r/adventofcode/comments/1h4ncyr/comment/m0041k3/?utm_source=share&utm_medium=web3x&utm_name=web3xcss&utm_term=1&utm_content=share_button)"
   ]
  },
  {
   "cell_type": "code",
   "execution_count": 8,
   "id": "64e24f9d-b32e-49a0-9dca-fd9e5a870a57",
   "metadata": {},
   "outputs": [],
   "source": [
    "def check_level_is_safe(lvl: list[int]) -> bool:\n",
    "    safe_increments = {1,2,3}\n",
    "    safe_decrements = {-1,-2,-3}\n",
    "\n",
    "    level_decrements = set((lvl[indx] - lvl[indx-1] for indx in range(1,len(lvl))))\n",
    "\n",
    "    # two ways of checking subset (set.issubset) or (<=)\n",
    "    return True if level_decrements.issubset(safe_increments) or level_decrements <= safe_decrements else False\n",
    "        "
   ]
  },
  {
   "cell_type": "code",
   "execution_count": 9,
   "id": "9af402d7-1bb6-4939-aefa-854a04018761",
   "metadata": {},
   "outputs": [
    {
     "data": {
      "text/plain": [
       "5"
      ]
     },
     "execution_count": 9,
     "metadata": {},
     "output_type": "execute_result"
    }
   ],
   "source": [
    "count_safe_reports2(test_input)"
   ]
  },
  {
   "cell_type": "code",
   "execution_count": 10,
   "id": "8487c5fb-5800-4740-a69e-98c42c9d78c8",
   "metadata": {},
   "outputs": [
    {
     "data": {
      "text/plain": [
       "308"
      ]
     },
     "execution_count": 10,
     "metadata": {},
     "output_type": "execute_result"
    }
   ],
   "source": [
    "count_safe_reports2(input_contents)"
   ]
  },
  {
   "cell_type": "code",
   "execution_count": null,
   "id": "9b62ea77-40f9-4416-9a3b-0d27134009c8",
   "metadata": {},
   "outputs": [],
   "source": []
  }
 ],
 "metadata": {
  "kernelspec": {
   "display_name": "Python 3 (ipykernel)",
   "language": "python",
   "name": "python3"
  },
  "language_info": {
   "codemirror_mode": {
    "name": "ipython",
    "version": 3
   },
   "file_extension": ".py",
   "mimetype": "text/x-python",
   "name": "python",
   "nbconvert_exporter": "python",
   "pygments_lexer": "ipython3",
   "version": "3.10.15"
  }
 },
 "nbformat": 4,
 "nbformat_minor": 5
}
